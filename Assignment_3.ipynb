{
  "nbformat": 4,
  "nbformat_minor": 0,
  "metadata": {
    "colab": {
      "provenance": []
    },
    "kernelspec": {
      "name": "python3",
      "display_name": "Python 3"
    },
    "language_info": {
      "name": "python"
    }
  },
  "cells": [
    {
      "cell_type": "markdown",
      "source": [
        "HYPOTHESIS TESTING"
      ],
      "metadata": {
        "id": "bs71cqmoH8Vz"
      }
    },
    {
      "cell_type": "code",
      "execution_count": 1,
      "metadata": {
        "id": "DQY3QTe3xZrh"
      },
      "outputs": [],
      "source": [
        "import numpy as np\n",
        "import scipy.stats as st\n"
      ]
    },
    {
      "cell_type": "markdown",
      "source": [
        "**Z-Test**"
      ],
      "metadata": {
        "id": "mk7H1pcpNM5y"
      }
    },
    {
      "cell_type": "markdown",
      "source": [
        "1. Ages of Medical Doctors"
      ],
      "metadata": {
        "id": "WpDVlJ9AIuxF"
      }
    },
    {
      "cell_type": "code",
      "source": [
        "n=30\n",
        "mu=46\n",
        "xbar=48.6\n",
        "sd=4.2\n",
        "alpha=0.05"
      ],
      "metadata": {
        "id": "cPu57JMkInRn"
      },
      "execution_count": 2,
      "outputs": []
    },
    {
      "cell_type": "code",
      "source": [
        "z_critical = abs(st.norm.ppf(alpha))"
      ],
      "metadata": {
        "id": "ALJ0Ii3RJYYh"
      },
      "execution_count": 3,
      "outputs": []
    },
    {
      "cell_type": "code",
      "source": [
        "z_critical"
      ],
      "metadata": {
        "colab": {
          "base_uri": "https://localhost:8080/"
        },
        "id": "jNbA9mVkJ1eW",
        "outputId": "3aa4db6d-dabb-4763-dfbd-adcad1a879c2"
      },
      "execution_count": 4,
      "outputs": [
        {
          "output_type": "execute_result",
          "data": {
            "text/plain": [
              "1.6448536269514729"
            ]
          },
          "metadata": {},
          "execution_count": 4
        }
      ]
    },
    {
      "cell_type": "markdown",
      "source": [
        "scipy. stats. norm. ppf() is used to compute z_critical value.\n"
      ],
      "metadata": {
        "id": "JaU8OJzNK2Sk"
      }
    },
    {
      "cell_type": "code",
      "source": [
        "z=(xbar-mu)/(sd/np.sqrt(n))"
      ],
      "metadata": {
        "id": "NDpGauWnKNmY"
      },
      "execution_count": 5,
      "outputs": []
    },
    {
      "cell_type": "code",
      "source": [
        "z"
      ],
      "metadata": {
        "colab": {
          "base_uri": "https://localhost:8080/"
        },
        "id": "BZ-TTMIgLP66",
        "outputId": "788ded34-56b9-4486-c1aa-7140cfda0dba"
      },
      "execution_count": 6,
      "outputs": [
        {
          "output_type": "execute_result",
          "data": {
            "text/plain": [
              "3.3906634512224585"
            ]
          },
          "metadata": {},
          "execution_count": 6
        }
      ]
    },
    {
      "cell_type": "code",
      "source": [
        "if(z_critical>z):\n",
        "  print(\"Null hypothesis cannot be rejected\")\n",
        "else:\n",
        "  print(\"Reject Null hypothesis\")"
      ],
      "metadata": {
        "colab": {
          "base_uri": "https://localhost:8080/"
        },
        "id": "6jUxYEY-Litx",
        "outputId": "0cf571a2-9245-438f-f0df-37967fcaf1d6"
      },
      "execution_count": 7,
      "outputs": [
        {
          "output_type": "stream",
          "name": "stdout",
          "text": [
            "Reject Null hypothesis\n"
          ]
        }
      ]
    },
    {
      "cell_type": "markdown",
      "source": [
        "If z is lessthan z_critical value null hypoythesis cannot be rejected."
      ],
      "metadata": {
        "id": "hHo8S8gfMgwG"
      }
    },
    {
      "cell_type": "markdown",
      "source": [
        "**Ztest Using P-value**"
      ],
      "metadata": {
        "id": "tUbPqJWkM5jG"
      }
    },
    {
      "cell_type": "code",
      "source": [
        "p_val=(1-st.norm.cdf(abs(z)))*2"
      ],
      "metadata": {
        "id": "UM54KgqtMQl9"
      },
      "execution_count": 8,
      "outputs": []
    },
    {
      "cell_type": "code",
      "source": [
        "p_val"
      ],
      "metadata": {
        "colab": {
          "base_uri": "https://localhost:8080/"
        },
        "id": "kmlhSwMsN2zJ",
        "outputId": "aea812b0-e315-48ba-f60c-2b83fc8ce981"
      },
      "execution_count": 9,
      "outputs": [
        {
          "output_type": "execute_result",
          "data": {
            "text/plain": [
              "0.0006972366404673913"
            ]
          },
          "metadata": {},
          "execution_count": 9
        }
      ]
    },
    {
      "cell_type": "code",
      "source": [
        "if(p_val>alpha):\n",
        "  print(\"Null hypothesis cannot be rejected\")\n",
        "else:\n",
        "  print(\"Reject Null hypothesis\")"
      ],
      "metadata": {
        "colab": {
          "base_uri": "https://localhost:8080/"
        },
        "id": "7-oMoOBpN91w",
        "outputId": "6c3da139-d318-4dae-989c-6837d5703b4b"
      },
      "execution_count": 10,
      "outputs": [
        {
          "output_type": "stream",
          "name": "stdout",
          "text": [
            "Reject Null hypothesis\n"
          ]
        }
      ]
    },
    {
      "cell_type": "markdown",
      "source": [
        "**t-Test**"
      ],
      "metadata": {
        "id": "GBkb-HjTPD-L"
      }
    },
    {
      "cell_type": "code",
      "source": [
        "dof=n-1"
      ],
      "metadata": {
        "id": "x4NtArM3Od_G"
      },
      "execution_count": 11,
      "outputs": []
    },
    {
      "cell_type": "code",
      "source": [
        "t=z"
      ],
      "metadata": {
        "id": "JPZhRtQAP5kY"
      },
      "execution_count": 12,
      "outputs": []
    },
    {
      "cell_type": "code",
      "source": [
        "t_critical=st.t.ppf(alpha/2,dof)"
      ],
      "metadata": {
        "id": "CbfiMJlbP97_"
      },
      "execution_count": 13,
      "outputs": []
    },
    {
      "cell_type": "code",
      "source": [
        "if(abs(t_critical)<abs(t)):\n",
        "  print(\"Null hypothesis cannot be rejected\")\n",
        "else:\n",
        "  print(\"Reject Null hypothesis\")"
      ],
      "metadata": {
        "colab": {
          "base_uri": "https://localhost:8080/"
        },
        "id": "YBJs3lpKQHjI",
        "outputId": "b75ce005-d49c-4c3a-ecab-76cc2d8fef37"
      },
      "execution_count": 14,
      "outputs": [
        {
          "output_type": "stream",
          "name": "stdout",
          "text": [
            "Null hypothesis cannot be rejected\n"
          ]
        }
      ]
    },
    {
      "cell_type": "markdown",
      "source": [
        "**t-Test using P-value**"
      ],
      "metadata": {
        "id": "a30b7TpFQdC8"
      }
    },
    {
      "cell_type": "code",
      "source": [
        "p_val=(1-st.t.cdf(abs(t),dof))"
      ],
      "metadata": {
        "id": "ZzcBaxs0QbVo"
      },
      "execution_count": 15,
      "outputs": []
    },
    {
      "cell_type": "code",
      "source": [
        "p_val"
      ],
      "metadata": {
        "colab": {
          "base_uri": "https://localhost:8080/"
        },
        "id": "_ho-Md9NRBTC",
        "outputId": "cbbb7ea5-7cb5-4b11-a249-123412cf988f"
      },
      "execution_count": 16,
      "outputs": [
        {
          "output_type": "execute_result",
          "data": {
            "text/plain": [
              "0.00101462876427727"
            ]
          },
          "metadata": {},
          "execution_count": 16
        }
      ]
    },
    {
      "cell_type": "code",
      "source": [
        "if(p_val> alpha):\n",
        "  print(\"Null hypothesis cannot be rejected\")\n",
        "else:\n",
        "  print(\"Reject Null hypothesis\")"
      ],
      "metadata": {
        "colab": {
          "base_uri": "https://localhost:8080/"
        },
        "id": "h2UNK-5ORLqr",
        "outputId": "c9d9941a-c4b9-4ecc-843a-492e3a63e9d4"
      },
      "execution_count": 17,
      "outputs": [
        {
          "output_type": "stream",
          "name": "stdout",
          "text": [
            "Reject Null hypothesis\n"
          ]
        }
      ]
    },
    {
      "cell_type": "markdown",
      "source": [
        "**JURY SELECTION**"
      ],
      "metadata": {
        "id": "7GcNYZMnmqO1"
      }
    },
    {
      "cell_type": "markdown",
      "source": [
        "Null Hypothesis:-panels were selected at random from the population of eligible jurors.\n"
      ],
      "metadata": {
        "id": "JZ-cAanEp9Sf"
      }
    },
    {
      "cell_type": "markdown",
      "source": [
        "Alternate Hypothesis:-panels were not selected at random"
      ],
      "metadata": {
        "id": "e2Jt60-BqHHy"
      }
    },
    {
      "cell_type": "code",
      "source": [
        "import pandas as pd\n",
        "import matplotlib.pyplot as plt\n",
        "%matplotlib inline\n",
        "import numpy as np"
      ],
      "metadata": {
        "id": "52x4v3M8RYhD"
      },
      "execution_count": 18,
      "outputs": []
    },
    {
      "cell_type": "code",
      "source": [
        "jury = {\"Ethnicity\":[\"Asian\",\"Black\",\"Latino\",\"White\",\"Other\"],\"Eligible\":[0.15,0.18,0.12,0.54,0.01],\"Panels\":[0.26,0.08,0.08,0.54,0.04]}\n",
        "jury"
      ],
      "metadata": {
        "colab": {
          "base_uri": "https://localhost:8080/"
        },
        "id": "8sf_ZSLvqh8g",
        "outputId": "19377d10-1adb-4fd6-92bb-0ce3d0855d01"
      },
      "execution_count": 19,
      "outputs": [
        {
          "output_type": "execute_result",
          "data": {
            "text/plain": [
              "{'Ethnicity': ['Asian', 'Black', 'Latino', 'White', 'Other'],\n",
              " 'Eligible': [0.15, 0.18, 0.12, 0.54, 0.01],\n",
              " 'Panels': [0.26, 0.08, 0.08, 0.54, 0.04]}"
            ]
          },
          "metadata": {},
          "execution_count": 19
        }
      ]
    },
    {
      "cell_type": "code",
      "source": [
        "Alameda_df=pd.DataFrame(jury)"
      ],
      "metadata": {
        "id": "5LebIkTurVRe"
      },
      "execution_count": 20,
      "outputs": []
    },
    {
      "cell_type": "markdown",
      "source": [
        "To convert lists into datset we use pd.DataFrame"
      ],
      "metadata": {
        "id": "nADXr6B5uvGF"
      }
    },
    {
      "cell_type": "code",
      "source": [
        "Alameda_df"
      ],
      "metadata": {
        "colab": {
          "base_uri": "https://localhost:8080/",
          "height": 206
        },
        "id": "wLsgYBaEtIW4",
        "outputId": "75fe5e30-727e-4060-af23-e045de092005"
      },
      "execution_count": 21,
      "outputs": [
        {
          "output_type": "execute_result",
          "data": {
            "text/plain": [
              "  Ethnicity  Eligible  Panels\n",
              "0     Asian      0.15    0.26\n",
              "1     Black      0.18    0.08\n",
              "2    Latino      0.12    0.08\n",
              "3     White      0.54    0.54\n",
              "4     Other      0.01    0.04"
            ],
            "text/html": [
              "\n",
              "  <div id=\"df-18d5e53c-8bae-4954-b39d-be8806c804cd\">\n",
              "    <div class=\"colab-df-container\">\n",
              "      <div>\n",
              "<style scoped>\n",
              "    .dataframe tbody tr th:only-of-type {\n",
              "        vertical-align: middle;\n",
              "    }\n",
              "\n",
              "    .dataframe tbody tr th {\n",
              "        vertical-align: top;\n",
              "    }\n",
              "\n",
              "    .dataframe thead th {\n",
              "        text-align: right;\n",
              "    }\n",
              "</style>\n",
              "<table border=\"1\" class=\"dataframe\">\n",
              "  <thead>\n",
              "    <tr style=\"text-align: right;\">\n",
              "      <th></th>\n",
              "      <th>Ethnicity</th>\n",
              "      <th>Eligible</th>\n",
              "      <th>Panels</th>\n",
              "    </tr>\n",
              "  </thead>\n",
              "  <tbody>\n",
              "    <tr>\n",
              "      <th>0</th>\n",
              "      <td>Asian</td>\n",
              "      <td>0.15</td>\n",
              "      <td>0.26</td>\n",
              "    </tr>\n",
              "    <tr>\n",
              "      <th>1</th>\n",
              "      <td>Black</td>\n",
              "      <td>0.18</td>\n",
              "      <td>0.08</td>\n",
              "    </tr>\n",
              "    <tr>\n",
              "      <th>2</th>\n",
              "      <td>Latino</td>\n",
              "      <td>0.12</td>\n",
              "      <td>0.08</td>\n",
              "    </tr>\n",
              "    <tr>\n",
              "      <th>3</th>\n",
              "      <td>White</td>\n",
              "      <td>0.54</td>\n",
              "      <td>0.54</td>\n",
              "    </tr>\n",
              "    <tr>\n",
              "      <th>4</th>\n",
              "      <td>Other</td>\n",
              "      <td>0.01</td>\n",
              "      <td>0.04</td>\n",
              "    </tr>\n",
              "  </tbody>\n",
              "</table>\n",
              "</div>\n",
              "      <button class=\"colab-df-convert\" onclick=\"convertToInteractive('df-18d5e53c-8bae-4954-b39d-be8806c804cd')\"\n",
              "              title=\"Convert this dataframe to an interactive table.\"\n",
              "              style=\"display:none;\">\n",
              "        \n",
              "  <svg xmlns=\"http://www.w3.org/2000/svg\" height=\"24px\"viewBox=\"0 0 24 24\"\n",
              "       width=\"24px\">\n",
              "    <path d=\"M0 0h24v24H0V0z\" fill=\"none\"/>\n",
              "    <path d=\"M18.56 5.44l.94 2.06.94-2.06 2.06-.94-2.06-.94-.94-2.06-.94 2.06-2.06.94zm-11 1L8.5 8.5l.94-2.06 2.06-.94-2.06-.94L8.5 2.5l-.94 2.06-2.06.94zm10 10l.94 2.06.94-2.06 2.06-.94-2.06-.94-.94-2.06-.94 2.06-2.06.94z\"/><path d=\"M17.41 7.96l-1.37-1.37c-.4-.4-.92-.59-1.43-.59-.52 0-1.04.2-1.43.59L10.3 9.45l-7.72 7.72c-.78.78-.78 2.05 0 2.83L4 21.41c.39.39.9.59 1.41.59.51 0 1.02-.2 1.41-.59l7.78-7.78 2.81-2.81c.8-.78.8-2.07 0-2.86zM5.41 20L4 18.59l7.72-7.72 1.47 1.35L5.41 20z\"/>\n",
              "  </svg>\n",
              "      </button>\n",
              "      \n",
              "  <style>\n",
              "    .colab-df-container {\n",
              "      display:flex;\n",
              "      flex-wrap:wrap;\n",
              "      gap: 12px;\n",
              "    }\n",
              "\n",
              "    .colab-df-convert {\n",
              "      background-color: #E8F0FE;\n",
              "      border: none;\n",
              "      border-radius: 50%;\n",
              "      cursor: pointer;\n",
              "      display: none;\n",
              "      fill: #1967D2;\n",
              "      height: 32px;\n",
              "      padding: 0 0 0 0;\n",
              "      width: 32px;\n",
              "    }\n",
              "\n",
              "    .colab-df-convert:hover {\n",
              "      background-color: #E2EBFA;\n",
              "      box-shadow: 0px 1px 2px rgba(60, 64, 67, 0.3), 0px 1px 3px 1px rgba(60, 64, 67, 0.15);\n",
              "      fill: #174EA6;\n",
              "    }\n",
              "\n",
              "    [theme=dark] .colab-df-convert {\n",
              "      background-color: #3B4455;\n",
              "      fill: #D2E3FC;\n",
              "    }\n",
              "\n",
              "    [theme=dark] .colab-df-convert:hover {\n",
              "      background-color: #434B5C;\n",
              "      box-shadow: 0px 1px 3px 1px rgba(0, 0, 0, 0.15);\n",
              "      filter: drop-shadow(0px 1px 2px rgba(0, 0, 0, 0.3));\n",
              "      fill: #FFFFFF;\n",
              "    }\n",
              "  </style>\n",
              "\n",
              "      <script>\n",
              "        const buttonEl =\n",
              "          document.querySelector('#df-18d5e53c-8bae-4954-b39d-be8806c804cd button.colab-df-convert');\n",
              "        buttonEl.style.display =\n",
              "          google.colab.kernel.accessAllowed ? 'block' : 'none';\n",
              "\n",
              "        async function convertToInteractive(key) {\n",
              "          const element = document.querySelector('#df-18d5e53c-8bae-4954-b39d-be8806c804cd');\n",
              "          const dataTable =\n",
              "            await google.colab.kernel.invokeFunction('convertToInteractive',\n",
              "                                                     [key], {});\n",
              "          if (!dataTable) return;\n",
              "\n",
              "          const docLinkHtml = 'Like what you see? Visit the ' +\n",
              "            '<a target=\"_blank\" href=https://colab.research.google.com/notebooks/data_table.ipynb>data table notebook</a>'\n",
              "            + ' to learn more about interactive tables.';\n",
              "          element.innerHTML = '';\n",
              "          dataTable['output_type'] = 'display_data';\n",
              "          await google.colab.output.renderOutput(dataTable, element);\n",
              "          const docLink = document.createElement('div');\n",
              "          docLink.innerHTML = docLinkHtml;\n",
              "          element.appendChild(docLink);\n",
              "        }\n",
              "      </script>\n",
              "    </div>\n",
              "  </div>\n",
              "  "
            ]
          },
          "metadata": {},
          "execution_count": 21
        }
      ]
    },
    {
      "cell_type": "code",
      "source": [
        "Alameda_df=Alameda_df.set_index('Ethnicity')"
      ],
      "metadata": {
        "id": "Gb67Q5JItsfY"
      },
      "execution_count": 22,
      "outputs": []
    },
    {
      "cell_type": "markdown",
      "source": [
        "To set index of a dataset we use set_index"
      ],
      "metadata": {
        "id": "A16xV4B1u2_m"
      }
    },
    {
      "cell_type": "markdown",
      "source": [
        "Plot bar graph for two distributions wrt Ethnicity"
      ],
      "metadata": {
        "id": "J2hr89y1u-N-"
      }
    },
    {
      "cell_type": "code",
      "source": [
        "Alameda_df .plot.barh()\n",
        "plt.gca().invert_yaxis()"
      ],
      "metadata": {
        "colab": {
          "base_uri": "https://localhost:8080/",
          "height": 265
        },
        "id": "D1EXEJVVtN4G",
        "outputId": "acadbda6-f0df-4dd3-b94f-bab4216a5bfd"
      },
      "execution_count": 23,
      "outputs": [
        {
          "output_type": "display_data",
          "data": {
            "text/plain": [
              "<Figure size 432x288 with 1 Axes>"
            ],
            "image/png": "[encoded data removed]"
          },
          "metadata": {
            "needs_background": "light"
          }
        }
      ]
    },
    {
      "cell_type": "markdown",
      "source": [
        "Now add a column calculating distance between two distributions."
      ],
      "metadata": {
        "id": "a1n6npvvvi5g"
      }
    },
    {
      "cell_type": "code",
      "source": [
        "Alameda_df['jury_with_diffs'] = Alameda_df['Panels']-Alameda_df['Eligible']\n",
        "Alameda_df"
      ],
      "metadata": {
        "colab": {
          "base_uri": "https://localhost:8080/",
          "height": 237
        },
        "id": "42FtSm8LtnwG",
        "outputId": "0c1696e6-ca93-4edf-8568-9322f844cb97"
      },
      "execution_count": 24,
      "outputs": [
        {
          "output_type": "execute_result",
          "data": {
            "text/plain": [
              "           Eligible  Panels  jury_with_diffs\n",
              "Ethnicity                                   \n",
              "Asian          0.15    0.26             0.11\n",
              "Black          0.18    0.08            -0.10\n",
              "Latino         0.12    0.08            -0.04\n",
              "White          0.54    0.54             0.00\n",
              "Other          0.01    0.04             0.03"
            ],
            "text/html": [
              "\n",
              "  <div id=\"df-5a2d1370-6c41-4dd9-82ac-ee75276f47f8\">\n",
              "    <div class=\"colab-df-container\">\n",
              "      <div>\n",
              "<style scoped>\n",
              "    .dataframe tbody tr th:only-of-type {\n",
              "        vertical-align: middle;\n",
              "    }\n",
              "\n",
              "    .dataframe tbody tr th {\n",
              "        vertical-align: top;\n",
              "    }\n",
              "\n",
              "    .dataframe thead th {\n",
              "        text-align: right;\n",
              "    }\n",
              "</style>\n",
              "<table border=\"1\" class=\"dataframe\">\n",
              "  <thead>\n",
              "    <tr style=\"text-align: right;\">\n",
              "      <th></th>\n",
              "      <th>Eligible</th>\n",
              "      <th>Panels</th>\n",
              "      <th>jury_with_diffs</th>\n",
              "    </tr>\n",
              "    <tr>\n",
              "      <th>Ethnicity</th>\n",
              "      <th></th>\n",
              "      <th></th>\n",
              "      <th></th>\n",
              "    </tr>\n",
              "  </thead>\n",
              "  <tbody>\n",
              "    <tr>\n",
              "      <th>Asian</th>\n",
              "      <td>0.15</td>\n",
              "      <td>0.26</td>\n",
              "      <td>0.11</td>\n",
              "    </tr>\n",
              "    <tr>\n",
              "      <th>Black</th>\n",
              "      <td>0.18</td>\n",
              "      <td>0.08</td>\n",
              "      <td>-0.10</td>\n",
              "    </tr>\n",
              "    <tr>\n",
              "      <th>Latino</th>\n",
              "      <td>0.12</td>\n",
              "      <td>0.08</td>\n",
              "      <td>-0.04</td>\n",
              "    </tr>\n",
              "    <tr>\n",
              "      <th>White</th>\n",
              "      <td>0.54</td>\n",
              "      <td>0.54</td>\n",
              "      <td>0.00</td>\n",
              "    </tr>\n",
              "    <tr>\n",
              "      <th>Other</th>\n",
              "      <td>0.01</td>\n",
              "      <td>0.04</td>\n",
              "      <td>0.03</td>\n",
              "    </tr>\n",
              "  </tbody>\n",
              "</table>\n",
              "</div>\n",
              "      <button class=\"colab-df-convert\" onclick=\"convertToInteractive('df-5a2d1370-6c41-4dd9-82ac-ee75276f47f8')\"\n",
              "              title=\"Convert this dataframe to an interactive table.\"\n",
              "              style=\"display:none;\">\n",
              "        \n",
              "  <svg xmlns=\"http://www.w3.org/2000/svg\" height=\"24px\"viewBox=\"0 0 24 24\"\n",
              "       width=\"24px\">\n",
              "    <path d=\"M0 0h24v24H0V0z\" fill=\"none\"/>\n",
              "    <path d=\"M18.56 5.44l.94 2.06.94-2.06 2.06-.94-2.06-.94-.94-2.06-.94 2.06-2.06.94zm-11 1L8.5 8.5l.94-2.06 2.06-.94-2.06-.94L8.5 2.5l-.94 2.06-2.06.94zm10 10l.94 2.06.94-2.06 2.06-.94-2.06-.94-.94-2.06-.94 2.06-2.06.94z\"/><path d=\"M17.41 7.96l-1.37-1.37c-.4-.4-.92-.59-1.43-.59-.52 0-1.04.2-1.43.59L10.3 9.45l-7.72 7.72c-.78.78-.78 2.05 0 2.83L4 21.41c.39.39.9.59 1.41.59.51 0 1.02-.2 1.41-.59l7.78-7.78 2.81-2.81c.8-.78.8-2.07 0-2.86zM5.41 20L4 18.59l7.72-7.72 1.47 1.35L5.41 20z\"/>\n",
              "  </svg>\n",
              "      </button>\n",
              "      \n",
              "  <style>\n",
              "    .colab-df-container {\n",
              "      display:flex;\n",
              "      flex-wrap:wrap;\n",
              "      gap: 12px;\n",
              "    }\n",
              "\n",
              "    .colab-df-convert {\n",
              "      background-color: #E8F0FE;\n",
              "      border: none;\n",
              "      border-radius: 50%;\n",
              "      cursor: pointer;\n",
              "      display: none;\n",
              "      fill: #1967D2;\n",
              "      height: 32px;\n",
              "      padding: 0 0 0 0;\n",
              "      width: 32px;\n",
              "    }\n",
              "\n",
              "    .colab-df-convert:hover {\n",
              "      background-color: #E2EBFA;\n",
              "      box-shadow: 0px 1px 2px rgba(60, 64, 67, 0.3), 0px 1px 3px 1px rgba(60, 64, 67, 0.15);\n",
              "      fill: #174EA6;\n",
              "    }\n",
              "\n",
              "    [theme=dark] .colab-df-convert {\n",
              "      background-color: #3B4455;\n",
              "      fill: #D2E3FC;\n",
              "    }\n",
              "\n",
              "    [theme=dark] .colab-df-convert:hover {\n",
              "      background-color: #434B5C;\n",
              "      box-shadow: 0px 1px 3px 1px rgba(0, 0, 0, 0.15);\n",
              "      filter: drop-shadow(0px 1px 2px rgba(0, 0, 0, 0.3));\n",
              "      fill: #FFFFFF;\n",
              "    }\n",
              "  </style>\n",
              "\n",
              "      <script>\n",
              "        const buttonEl =\n",
              "          document.querySelector('#df-5a2d1370-6c41-4dd9-82ac-ee75276f47f8 button.colab-df-convert');\n",
              "        buttonEl.style.display =\n",
              "          google.colab.kernel.accessAllowed ? 'block' : 'none';\n",
              "\n",
              "        async function convertToInteractive(key) {\n",
              "          const element = document.querySelector('#df-5a2d1370-6c41-4dd9-82ac-ee75276f47f8');\n",
              "          const dataTable =\n",
              "            await google.colab.kernel.invokeFunction('convertToInteractive',\n",
              "                                                     [key], {});\n",
              "          if (!dataTable) return;\n",
              "\n",
              "          const docLinkHtml = 'Like what you see? Visit the ' +\n",
              "            '<a target=\"_blank\" href=https://colab.research.google.com/notebooks/data_table.ipynb>data table notebook</a>'\n",
              "            + ' to learn more about interactive tables.';\n",
              "          element.innerHTML = '';\n",
              "          dataTable['output_type'] = 'display_data';\n",
              "          await google.colab.output.renderOutput(dataTable, element);\n",
              "          const docLink = document.createElement('div');\n",
              "          docLink.innerHTML = docLinkHtml;\n",
              "          element.appendChild(docLink);\n",
              "        }\n",
              "      </script>\n",
              "    </div>\n",
              "  </div>\n",
              "  "
            ]
          },
          "metadata": {},
          "execution_count": 24
        }
      ]
    },
    {
      "cell_type": "markdown",
      "source": [
        "Here in the differences the sum of positive entries and sum of negative entries is same. So to avoid cancellation we take absolute values and divide by 2 because we are adding positive entries 2 times."
      ],
      "metadata": {
        "id": "MEJMgvsFwMC-"
      }
    },
    {
      "cell_type": "code",
      "source": [
        "Alameda_df['Abs.Difference']=abs(Alameda_df['jury_with_diffs'])\n",
        "Alameda_df"
      ],
      "metadata": {
        "colab": {
          "base_uri": "https://localhost:8080/",
          "height": 237
        },
        "id": "Uwx2UEoJvx9P",
        "outputId": "04215774-df64-497a-eeb3-ca6f3b889333"
      },
      "execution_count": 25,
      "outputs": [
        {
          "output_type": "execute_result",
          "data": {
            "text/plain": [
              "           Eligible  Panels  jury_with_diffs  Abs.Difference\n",
              "Ethnicity                                                   \n",
              "Asian          0.15    0.26             0.11            0.11\n",
              "Black          0.18    0.08            -0.10            0.10\n",
              "Latino         0.12    0.08            -0.04            0.04\n",
              "White          0.54    0.54             0.00            0.00\n",
              "Other          0.01    0.04             0.03            0.03"
            ],
            "text/html": [
              "\n",
              "  <div id=\"df-3fe4a984-c586-41cd-97f9-c10df8ea7d67\">\n",
              "    <div class=\"colab-df-container\">\n",
              "      <div>\n",
              "<style scoped>\n",
              "    .dataframe tbody tr th:only-of-type {\n",
              "        vertical-align: middle;\n",
              "    }\n",
              "\n",
              "    .dataframe tbody tr th {\n",
              "        vertical-align: top;\n",
              "    }\n",
              "\n",
              "    .dataframe thead th {\n",
              "        text-align: right;\n",
              "    }\n",
              "</style>\n",
              "<table border=\"1\" class=\"dataframe\">\n",
              "  <thead>\n",
              "    <tr style=\"text-align: right;\">\n",
              "      <th></th>\n",
              "      <th>Eligible</th>\n",
              "      <th>Panels</th>\n",
              "      <th>jury_with_diffs</th>\n",
              "      <th>Abs.Difference</th>\n",
              "    </tr>\n",
              "    <tr>\n",
              "      <th>Ethnicity</th>\n",
              "      <th></th>\n",
              "      <th></th>\n",
              "      <th></th>\n",
              "      <th></th>\n",
              "    </tr>\n",
              "  </thead>\n",
              "  <tbody>\n",
              "    <tr>\n",
              "      <th>Asian</th>\n",
              "      <td>0.15</td>\n",
              "      <td>0.26</td>\n",
              "      <td>0.11</td>\n",
              "      <td>0.11</td>\n",
              "    </tr>\n",
              "    <tr>\n",
              "      <th>Black</th>\n",
              "      <td>0.18</td>\n",
              "      <td>0.08</td>\n",
              "      <td>-0.10</td>\n",
              "      <td>0.10</td>\n",
              "    </tr>\n",
              "    <tr>\n",
              "      <th>Latino</th>\n",
              "      <td>0.12</td>\n",
              "      <td>0.08</td>\n",
              "      <td>-0.04</td>\n",
              "      <td>0.04</td>\n",
              "    </tr>\n",
              "    <tr>\n",
              "      <th>White</th>\n",
              "      <td>0.54</td>\n",
              "      <td>0.54</td>\n",
              "      <td>0.00</td>\n",
              "      <td>0.00</td>\n",
              "    </tr>\n",
              "    <tr>\n",
              "      <th>Other</th>\n",
              "      <td>0.01</td>\n",
              "      <td>0.04</td>\n",
              "      <td>0.03</td>\n",
              "      <td>0.03</td>\n",
              "    </tr>\n",
              "  </tbody>\n",
              "</table>\n",
              "</div>\n",
              "      <button class=\"colab-df-convert\" onclick=\"convertToInteractive('df-3fe4a984-c586-41cd-97f9-c10df8ea7d67')\"\n",
              "              title=\"Convert this dataframe to an interactive table.\"\n",
              "              style=\"display:none;\">\n",
              "        \n",
              "  <svg xmlns=\"http://www.w3.org/2000/svg\" height=\"24px\"viewBox=\"0 0 24 24\"\n",
              "       width=\"24px\">\n",
              "    <path d=\"M0 0h24v24H0V0z\" fill=\"none\"/>\n",
              "    <path d=\"M18.56 5.44l.94 2.06.94-2.06 2.06-.94-2.06-.94-.94-2.06-.94 2.06-2.06.94zm-11 1L8.5 8.5l.94-2.06 2.06-.94-2.06-.94L8.5 2.5l-.94 2.06-2.06.94zm10 10l.94 2.06.94-2.06 2.06-.94-2.06-.94-.94-2.06-.94 2.06-2.06.94z\"/><path d=\"M17.41 7.96l-1.37-1.37c-.4-.4-.92-.59-1.43-.59-.52 0-1.04.2-1.43.59L10.3 9.45l-7.72 7.72c-.78.78-.78 2.05 0 2.83L4 21.41c.39.39.9.59 1.41.59.51 0 1.02-.2 1.41-.59l7.78-7.78 2.81-2.81c.8-.78.8-2.07 0-2.86zM5.41 20L4 18.59l7.72-7.72 1.47 1.35L5.41 20z\"/>\n",
              "  </svg>\n",
              "      </button>\n",
              "      \n",
              "  <style>\n",
              "    .colab-df-container {\n",
              "      display:flex;\n",
              "      flex-wrap:wrap;\n",
              "      gap: 12px;\n",
              "    }\n",
              "\n",
              "    .colab-df-convert {\n",
              "      background-color: #E8F0FE;\n",
              "      border: none;\n",
              "      border-radius: 50%;\n",
              "      cursor: pointer;\n",
              "      display: none;\n",
              "      fill: #1967D2;\n",
              "      height: 32px;\n",
              "      padding: 0 0 0 0;\n",
              "      width: 32px;\n",
              "    }\n",
              "\n",
              "    .colab-df-convert:hover {\n",
              "      background-color: #E2EBFA;\n",
              "      box-shadow: 0px 1px 2px rgba(60, 64, 67, 0.3), 0px 1px 3px 1px rgba(60, 64, 67, 0.15);\n",
              "      fill: #174EA6;\n",
              "    }\n",
              "\n",
              "    [theme=dark] .colab-df-convert {\n",
              "      background-color: #3B4455;\n",
              "      fill: #D2E3FC;\n",
              "    }\n",
              "\n",
              "    [theme=dark] .colab-df-convert:hover {\n",
              "      background-color: #434B5C;\n",
              "      box-shadow: 0px 1px 3px 1px rgba(0, 0, 0, 0.15);\n",
              "      filter: drop-shadow(0px 1px 2px rgba(0, 0, 0, 0.3));\n",
              "      fill: #FFFFFF;\n",
              "    }\n",
              "  </style>\n",
              "\n",
              "      <script>\n",
              "        const buttonEl =\n",
              "          document.querySelector('#df-3fe4a984-c586-41cd-97f9-c10df8ea7d67 button.colab-df-convert');\n",
              "        buttonEl.style.display =\n",
              "          google.colab.kernel.accessAllowed ? 'block' : 'none';\n",
              "\n",
              "        async function convertToInteractive(key) {\n",
              "          const element = document.querySelector('#df-3fe4a984-c586-41cd-97f9-c10df8ea7d67');\n",
              "          const dataTable =\n",
              "            await google.colab.kernel.invokeFunction('convertToInteractive',\n",
              "                                                     [key], {});\n",
              "          if (!dataTable) return;\n",
              "\n",
              "          const docLinkHtml = 'Like what you see? Visit the ' +\n",
              "            '<a target=\"_blank\" href=https://colab.research.google.com/notebooks/data_table.ipynb>data table notebook</a>'\n",
              "            + ' to learn more about interactive tables.';\n",
              "          element.innerHTML = '';\n",
              "          dataTable['output_type'] = 'display_data';\n",
              "          await google.colab.output.renderOutput(dataTable, element);\n",
              "          const docLink = document.createElement('div');\n",
              "          docLink.innerHTML = docLinkHtml;\n",
              "          element.appendChild(docLink);\n",
              "        }\n",
              "      </script>\n",
              "    </div>\n",
              "  </div>\n",
              "  "
            ]
          },
          "metadata": {},
          "execution_count": 25
        }
      ]
    },
    {
      "cell_type": "markdown",
      "source": [
        "#TVD"
      ],
      "metadata": {
        "id": "JzpG0oE8w3oJ"
      }
    },
    {
      "cell_type": "markdown",
      "source": [
        "Total variation distance"
      ],
      "metadata": {
        "id": "roOi8R87w6F7"
      }
    },
    {
      "cell_type": "code",
      "source": [
        "test_statistic = Alameda_df['Abs.Difference'].sum()/2\n",
        "test_statistic"
      ],
      "metadata": {
        "colab": {
          "base_uri": "https://localhost:8080/"
        },
        "id": "yL9K-Ehows_u",
        "outputId": "5542a378-1e3e-4d9f-dbe7-a5f622c6360d"
      },
      "execution_count": 26,
      "outputs": [
        {
          "output_type": "execute_result",
          "data": {
            "text/plain": [
              "0.14"
            ]
          },
          "metadata": {},
          "execution_count": 26
        }
      ]
    },
    {
      "cell_type": "markdown",
      "source": [
        "#Sampling"
      ],
      "metadata": {
        "id": "bddT8zp3xROR"
      }
    },
    {
      "cell_type": "markdown",
      "source": [
        "lets take 1453 as panel size and do sampling with distribution of ethnicities in the eligible juror population  "
      ],
      "metadata": {
        "id": "aDER8f-IxgxE"
      }
    },
    {
      "cell_type": "code",
      "source": [
        "panel_size = 1453"
      ],
      "metadata": {
        "id": "OfpJddwbwzWn"
      },
      "execution_count": 27,
      "outputs": []
    },
    {
      "cell_type": "code",
      "source": [
        "import numpy.random as npr\n",
        "npr.multinomial(1453,[0.15,0.18,0.12,0.54,0.01])"
      ],
      "metadata": {
        "colab": {
          "base_uri": "https://localhost:8080/"
        },
        "id": "a2UkgnLsxwkg",
        "outputId": "e44a1bf4-aa24-43db-8e08-cecf21f7e777"
      },
      "execution_count": 28,
      "outputs": [
        {
          "output_type": "execute_result",
          "data": {
            "text/plain": [
              "array([217, 247, 176, 799,  14])"
            ]
          },
          "metadata": {},
          "execution_count": 28
        }
      ]
    },
    {
      "cell_type": "markdown",
      "source": [
        "Here output array elements add up to 1453."
      ],
      "metadata": {
        "id": "A-WB0psvyWJ3"
      }
    },
    {
      "cell_type": "code",
      "source": [
        "Alameda_df_1 = pd.DataFrame(Alameda_df,columns = ['Eligible','Panels'])"
      ],
      "metadata": {
        "id": "LD4m3W7Xx88K"
      },
      "execution_count": 29,
      "outputs": []
    },
    {
      "cell_type": "markdown",
      "source": [
        "Here we are creating another dataframe with only two distributions removing difference between them"
      ],
      "metadata": {
        "id": "3uTuaWzDy-JF"
      }
    },
    {
      "cell_type": "code",
      "source": [
        "Alameda_df_1['Random Sample'] = npr.multinomial(1453,[0.15,0.18,0.12,0.54,0.01])/1453\n",
        "Alameda_df_1"
      ],
      "metadata": {
        "colab": {
          "base_uri": "https://localhost:8080/",
          "height": 237
        },
        "id": "MKT6Jveny0Uo",
        "outputId": "72cb4e21-a6f9-4d1a-89e2-a7d424fe4462"
      },
      "execution_count": 30,
      "outputs": [
        {
          "output_type": "execute_result",
          "data": {
            "text/plain": [
              "           Eligible  Panels  Random Sample\n",
              "Ethnicity                                 \n",
              "Asian          0.15    0.26       0.161734\n",
              "Black          0.18    0.08       0.179628\n",
              "Latino         0.12    0.08       0.123193\n",
              "White          0.54    0.54       0.526497\n",
              "Other          0.01    0.04       0.008947"
            ],
            "text/html": [
              "\n",
              "  <div id=\"df-f696d763-1862-4aa0-bc3f-8d2e13e42afa\">\n",
              "    <div class=\"colab-df-container\">\n",
              "      <div>\n",
              "<style scoped>\n",
              "    .dataframe tbody tr th:only-of-type {\n",
              "        vertical-align: middle;\n",
              "    }\n",
              "\n",
              "    .dataframe tbody tr th {\n",
              "        vertical-align: top;\n",
              "    }\n",
              "\n",
              "    .dataframe thead th {\n",
              "        text-align: right;\n",
              "    }\n",
              "</style>\n",
              "<table border=\"1\" class=\"dataframe\">\n",
              "  <thead>\n",
              "    <tr style=\"text-align: right;\">\n",
              "      <th></th>\n",
              "      <th>Eligible</th>\n",
              "      <th>Panels</th>\n",
              "      <th>Random Sample</th>\n",
              "    </tr>\n",
              "    <tr>\n",
              "      <th>Ethnicity</th>\n",
              "      <th></th>\n",
              "      <th></th>\n",
              "      <th></th>\n",
              "    </tr>\n",
              "  </thead>\n",
              "  <tbody>\n",
              "    <tr>\n",
              "      <th>Asian</th>\n",
              "      <td>0.15</td>\n",
              "      <td>0.26</td>\n",
              "      <td>0.161734</td>\n",
              "    </tr>\n",
              "    <tr>\n",
              "      <th>Black</th>\n",
              "      <td>0.18</td>\n",
              "      <td>0.08</td>\n",
              "      <td>0.179628</td>\n",
              "    </tr>\n",
              "    <tr>\n",
              "      <th>Latino</th>\n",
              "      <td>0.12</td>\n",
              "      <td>0.08</td>\n",
              "      <td>0.123193</td>\n",
              "    </tr>\n",
              "    <tr>\n",
              "      <th>White</th>\n",
              "      <td>0.54</td>\n",
              "      <td>0.54</td>\n",
              "      <td>0.526497</td>\n",
              "    </tr>\n",
              "    <tr>\n",
              "      <th>Other</th>\n",
              "      <td>0.01</td>\n",
              "      <td>0.04</td>\n",
              "      <td>0.008947</td>\n",
              "    </tr>\n",
              "  </tbody>\n",
              "</table>\n",
              "</div>\n",
              "      <button class=\"colab-df-convert\" onclick=\"convertToInteractive('df-f696d763-1862-4aa0-bc3f-8d2e13e42afa')\"\n",
              "              title=\"Convert this dataframe to an interactive table.\"\n",
              "              style=\"display:none;\">\n",
              "        \n",
              "  <svg xmlns=\"http://www.w3.org/2000/svg\" height=\"24px\"viewBox=\"0 0 24 24\"\n",
              "       width=\"24px\">\n",
              "    <path d=\"M0 0h24v24H0V0z\" fill=\"none\"/>\n",
              "    <path d=\"M18.56 5.44l.94 2.06.94-2.06 2.06-.94-2.06-.94-.94-2.06-.94 2.06-2.06.94zm-11 1L8.5 8.5l.94-2.06 2.06-.94-2.06-.94L8.5 2.5l-.94 2.06-2.06.94zm10 10l.94 2.06.94-2.06 2.06-.94-2.06-.94-.94-2.06-.94 2.06-2.06.94z\"/><path d=\"M17.41 7.96l-1.37-1.37c-.4-.4-.92-.59-1.43-.59-.52 0-1.04.2-1.43.59L10.3 9.45l-7.72 7.72c-.78.78-.78 2.05 0 2.83L4 21.41c.39.39.9.59 1.41.59.51 0 1.02-.2 1.41-.59l7.78-7.78 2.81-2.81c.8-.78.8-2.07 0-2.86zM5.41 20L4 18.59l7.72-7.72 1.47 1.35L5.41 20z\"/>\n",
              "  </svg>\n",
              "      </button>\n",
              "      \n",
              "  <style>\n",
              "    .colab-df-container {\n",
              "      display:flex;\n",
              "      flex-wrap:wrap;\n",
              "      gap: 12px;\n",
              "    }\n",
              "\n",
              "    .colab-df-convert {\n",
              "      background-color: #E8F0FE;\n",
              "      border: none;\n",
              "      border-radius: 50%;\n",
              "      cursor: pointer;\n",
              "      display: none;\n",
              "      fill: #1967D2;\n",
              "      height: 32px;\n",
              "      padding: 0 0 0 0;\n",
              "      width: 32px;\n",
              "    }\n",
              "\n",
              "    .colab-df-convert:hover {\n",
              "      background-color: #E2EBFA;\n",
              "      box-shadow: 0px 1px 2px rgba(60, 64, 67, 0.3), 0px 1px 3px 1px rgba(60, 64, 67, 0.15);\n",
              "      fill: #174EA6;\n",
              "    }\n",
              "\n",
              "    [theme=dark] .colab-df-convert {\n",
              "      background-color: #3B4455;\n",
              "      fill: #D2E3FC;\n",
              "    }\n",
              "\n",
              "    [theme=dark] .colab-df-convert:hover {\n",
              "      background-color: #434B5C;\n",
              "      box-shadow: 0px 1px 3px 1px rgba(0, 0, 0, 0.15);\n",
              "      filter: drop-shadow(0px 1px 2px rgba(0, 0, 0, 0.3));\n",
              "      fill: #FFFFFF;\n",
              "    }\n",
              "  </style>\n",
              "\n",
              "      <script>\n",
              "        const buttonEl =\n",
              "          document.querySelector('#df-f696d763-1862-4aa0-bc3f-8d2e13e42afa button.colab-df-convert');\n",
              "        buttonEl.style.display =\n",
              "          google.colab.kernel.accessAllowed ? 'block' : 'none';\n",
              "\n",
              "        async function convertToInteractive(key) {\n",
              "          const element = document.querySelector('#df-f696d763-1862-4aa0-bc3f-8d2e13e42afa');\n",
              "          const dataTable =\n",
              "            await google.colab.kernel.invokeFunction('convertToInteractive',\n",
              "                                                     [key], {});\n",
              "          if (!dataTable) return;\n",
              "\n",
              "          const docLinkHtml = 'Like what you see? Visit the ' +\n",
              "            '<a target=\"_blank\" href=https://colab.research.google.com/notebooks/data_table.ipynb>data table notebook</a>'\n",
              "            + ' to learn more about interactive tables.';\n",
              "          element.innerHTML = '';\n",
              "          dataTable['output_type'] = 'display_data';\n",
              "          await google.colab.output.renderOutput(dataTable, element);\n",
              "          const docLink = document.createElement('div');\n",
              "          docLink.innerHTML = docLinkHtml;\n",
              "          element.appendChild(docLink);\n",
              "        }\n",
              "      </script>\n",
              "    </div>\n",
              "  </div>\n",
              "  "
            ]
          },
          "metadata": {},
          "execution_count": 30
        }
      ]
    },
    {
      "cell_type": "markdown",
      "source": [
        "Distribution of random sample is close to distribution of eligible population"
      ],
      "metadata": {
        "id": "p5pjhBR3zWiu"
      }
    },
    {
      "cell_type": "code",
      "source": [
        "Alameda_df_1.plot.barh()\n",
        "plt.gca().invert_yaxis()"
      ],
      "metadata": {
        "colab": {
          "base_uri": "https://localhost:8080/",
          "height": 265
        },
        "id": "-zDPm2EQzMWv",
        "outputId": "f5c9d64f-5623-4158-e227-22399b65ae5b"
      },
      "execution_count": 31,
      "outputs": [
        {
          "output_type": "display_data",
          "data": {
            "text/plain": [
              "<Figure size 432x288 with 1 Axes>"
            ],
            "image/png": "[encoded data removed]"
          },
          "metadata": {
            "needs_background": "light"
          }
        }
      ]
    },
    {
      "cell_type": "markdown",
      "source": [
        "Green and blue bars are close to each other where orange bars dont "
      ],
      "metadata": {
        "id": "Nw9iKFz50G_f"
      }
    },
    {
      "cell_type": "markdown",
      "source": [
        "Now TVD is calculated between distribution of eligible population and Random sample"
      ],
      "metadata": {
        "id": "AnX2cPOb0WYT"
      }
    },
    {
      "cell_type": "code",
      "source": [
        "TVD = (abs(Alameda_df_1['Eligible']-Alameda_df_1['Random Sample'])).sum()/2\n",
        "TVD"
      ],
      "metadata": {
        "colab": {
          "base_uri": "https://localhost:8080/"
        },
        "id": "g085PKtaz2xb",
        "outputId": "14015be3-e451-4269-9f50-cecc3b8a06ba"
      },
      "execution_count": 32,
      "outputs": [
        {
          "output_type": "execute_result",
          "data": {
            "text/plain": [
              "0.01492773571920168"
            ]
          },
          "metadata": {},
          "execution_count": 32
        }
      ]
    },
    {
      "cell_type": "markdown",
      "source": [
        "TVD between eligible population and panels is 0.14 where here we got much smaller than 0.14"
      ],
      "metadata": {
        "id": "FVWUPoFU0uqp"
      }
    },
    {
      "cell_type": "code",
      "source": [
        "def total_variation_distance(distribution_1, distribution_2):\n",
        "    return np.abs(distribution_1 - distribution_2).sum()/2\n",
        "def table_tvd(table, label, other):\n",
        "    return total_variation_distance(table[label], table[other])"
      ],
      "metadata": {
        "id": "v3m-EUrb1w37"
      },
      "execution_count": 33,
      "outputs": []
    },
    {
      "cell_type": "code",
      "source": [
        "simulations=50\n",
        "tvd_list=[]\n",
        "for i in np.arange(simulations):\n",
        "  Alameda_df_1[\"Random Sample\"]=(npr.multinomial(1453,[0.15, 0.18, 0.12, 0.54, 0.01]))/1453\n",
        "  tvd_list.append(table_tvd(Alameda_df_1,'Eligible','Random Sample'))\n",
        "tvd_list"
      ],
      "metadata": {
        "colab": {
          "base_uri": "https://localhost:8080/"
        },
        "id": "sY7Eqv2N0SkY",
        "outputId": "41e5b67d-1074-4580-e877-43d6295343d0"
      },
      "execution_count": 34,
      "outputs": [
        {
          "output_type": "execute_result",
          "data": {
            "text/plain": [
              "[0.0200688231245699,\n",
              " 0.015843083275980694,\n",
              " 0.007866483138334438,\n",
              " 0.029697178251892643,\n",
              " 0.020289057123193385,\n",
              " 0.01653131452167925,\n",
              " 0.027136958017893998,\n",
              " 0.008520302821748104,\n",
              " 0.01593255333792155,\n",
              " 0.010763936682725413,\n",
              " 0.010392291810048165,\n",
              " 0.012973158981417744,\n",
              " 0.0140949759119064,\n",
              " 0.02236063317274601,\n",
              " 0.02832759807295255,\n",
              " 0.019256710254645593,\n",
              " 0.0267377838953888,\n",
              " 0.015726083964211955,\n",
              " 0.017942188575361295,\n",
              " 0.020220233998623504,\n",
              " 0.015127322780454254,\n",
              " 0.020578114246386767,\n",
              " 0.021672401927047454,\n",
              " 0.01379903647625601,\n",
              " 0.016125258086717113,\n",
              " 0.008596008258774903,\n",
              " 0.022092222986923645,\n",
              " 0.02163110805230557,\n",
              " 0.010681348933241554,\n",
              " 0.03582243633860977,\n",
              " 0.03541637990364767,\n",
              " 0.014026152787336547,\n",
              " 0.00863041982105983,\n",
              " 0.014556090846524448,\n",
              " 0.006125258086717119,\n",
              " 0.010942876806606985,\n",
              " 0.021913282863041957,\n",
              " 0.013551273227804538,\n",
              " 0.009965588437715034,\n",
              " 0.027598072952512077,\n",
              " 0.011665519614590503,\n",
              " 0.01589814177563661,\n",
              " 0.02122505161734341,\n",
              " 0.0061252580867171245,\n",
              " 0.026827253957329683,\n",
              " 0.02726772195457675,\n",
              " 0.011087405368203759,\n",
              " 0.007680660701995896,\n",
              " 0.006896077081899493,\n",
              " 0.0188988300068823]"
            ]
          },
          "metadata": {},
          "execution_count": 34
        }
      ]
    },
    {
      "cell_type": "markdown",
      "source": [
        "Here 50 random samples are taken from eligible population where panel size is 1453 and tvd is calculated betweenn random sample and eligible distributions and appended into a list."
      ],
      "metadata": {
        "id": "uWZzuSsk2Qfw"
      }
    },
    {
      "cell_type": "markdown",
      "source": [
        "Now convert list into dataset "
      ],
      "metadata": {
        "id": "S_NAl11s21ks"
      }
    },
    {
      "cell_type": "code",
      "source": [
        "tvd_final_df=pd.DataFrame(tvd_list)\n",
        "tvd_final_df.rename(columns={0:\"TVD\"},inplace=True) # renaming column\n",
        "tvd_final_df.head()"
      ],
      "metadata": {
        "colab": {
          "base_uri": "https://localhost:8080/",
          "height": 206
        },
        "id": "9FePMImv2P7o",
        "outputId": "d4821027-35c6-4d77-ee79-223a841fea55"
      },
      "execution_count": 35,
      "outputs": [
        {
          "output_type": "execute_result",
          "data": {
            "text/plain": [
              "        TVD\n",
              "0  0.020069\n",
              "1  0.015843\n",
              "2  0.007866\n",
              "3  0.029697\n",
              "4  0.020289"
            ],
            "text/html": [
              "\n",
              "  <div id=\"df-efb48c53-0900-4b3c-8b84-dfc54da22336\">\n",
              "    <div class=\"colab-df-container\">\n",
              "      <div>\n",
              "<style scoped>\n",
              "    .dataframe tbody tr th:only-of-type {\n",
              "        vertical-align: middle;\n",
              "    }\n",
              "\n",
              "    .dataframe tbody tr th {\n",
              "        vertical-align: top;\n",
              "    }\n",
              "\n",
              "    .dataframe thead th {\n",
              "        text-align: right;\n",
              "    }\n",
              "</style>\n",
              "<table border=\"1\" class=\"dataframe\">\n",
              "  <thead>\n",
              "    <tr style=\"text-align: right;\">\n",
              "      <th></th>\n",
              "      <th>TVD</th>\n",
              "    </tr>\n",
              "  </thead>\n",
              "  <tbody>\n",
              "    <tr>\n",
              "      <th>0</th>\n",
              "      <td>0.020069</td>\n",
              "    </tr>\n",
              "    <tr>\n",
              "      <th>1</th>\n",
              "      <td>0.015843</td>\n",
              "    </tr>\n",
              "    <tr>\n",
              "      <th>2</th>\n",
              "      <td>0.007866</td>\n",
              "    </tr>\n",
              "    <tr>\n",
              "      <th>3</th>\n",
              "      <td>0.029697</td>\n",
              "    </tr>\n",
              "    <tr>\n",
              "      <th>4</th>\n",
              "      <td>0.020289</td>\n",
              "    </tr>\n",
              "  </tbody>\n",
              "</table>\n",
              "</div>\n",
              "      <button class=\"colab-df-convert\" onclick=\"convertToInteractive('df-efb48c53-0900-4b3c-8b84-dfc54da22336')\"\n",
              "              title=\"Convert this dataframe to an interactive table.\"\n",
              "              style=\"display:none;\">\n",
              "        \n",
              "  <svg xmlns=\"http://www.w3.org/2000/svg\" height=\"24px\"viewBox=\"0 0 24 24\"\n",
              "       width=\"24px\">\n",
              "    <path d=\"M0 0h24v24H0V0z\" fill=\"none\"/>\n",
              "    <path d=\"M18.56 5.44l.94 2.06.94-2.06 2.06-.94-2.06-.94-.94-2.06-.94 2.06-2.06.94zm-11 1L8.5 8.5l.94-2.06 2.06-.94-2.06-.94L8.5 2.5l-.94 2.06-2.06.94zm10 10l.94 2.06.94-2.06 2.06-.94-2.06-.94-.94-2.06-.94 2.06-2.06.94z\"/><path d=\"M17.41 7.96l-1.37-1.37c-.4-.4-.92-.59-1.43-.59-.52 0-1.04.2-1.43.59L10.3 9.45l-7.72 7.72c-.78.78-.78 2.05 0 2.83L4 21.41c.39.39.9.59 1.41.59.51 0 1.02-.2 1.41-.59l7.78-7.78 2.81-2.81c.8-.78.8-2.07 0-2.86zM5.41 20L4 18.59l7.72-7.72 1.47 1.35L5.41 20z\"/>\n",
              "  </svg>\n",
              "      </button>\n",
              "      \n",
              "  <style>\n",
              "    .colab-df-container {\n",
              "      display:flex;\n",
              "      flex-wrap:wrap;\n",
              "      gap: 12px;\n",
              "    }\n",
              "\n",
              "    .colab-df-convert {\n",
              "      background-color: #E8F0FE;\n",
              "      border: none;\n",
              "      border-radius: 50%;\n",
              "      cursor: pointer;\n",
              "      display: none;\n",
              "      fill: #1967D2;\n",
              "      height: 32px;\n",
              "      padding: 0 0 0 0;\n",
              "      width: 32px;\n",
              "    }\n",
              "\n",
              "    .colab-df-convert:hover {\n",
              "      background-color: #E2EBFA;\n",
              "      box-shadow: 0px 1px 2px rgba(60, 64, 67, 0.3), 0px 1px 3px 1px rgba(60, 64, 67, 0.15);\n",
              "      fill: #174EA6;\n",
              "    }\n",
              "\n",
              "    [theme=dark] .colab-df-convert {\n",
              "      background-color: #3B4455;\n",
              "      fill: #D2E3FC;\n",
              "    }\n",
              "\n",
              "    [theme=dark] .colab-df-convert:hover {\n",
              "      background-color: #434B5C;\n",
              "      box-shadow: 0px 1px 3px 1px rgba(0, 0, 0, 0.15);\n",
              "      filter: drop-shadow(0px 1px 2px rgba(0, 0, 0, 0.3));\n",
              "      fill: #FFFFFF;\n",
              "    }\n",
              "  </style>\n",
              "\n",
              "      <script>\n",
              "        const buttonEl =\n",
              "          document.querySelector('#df-efb48c53-0900-4b3c-8b84-dfc54da22336 button.colab-df-convert');\n",
              "        buttonEl.style.display =\n",
              "          google.colab.kernel.accessAllowed ? 'block' : 'none';\n",
              "\n",
              "        async function convertToInteractive(key) {\n",
              "          const element = document.querySelector('#df-efb48c53-0900-4b3c-8b84-dfc54da22336');\n",
              "          const dataTable =\n",
              "            await google.colab.kernel.invokeFunction('convertToInteractive',\n",
              "                                                     [key], {});\n",
              "          if (!dataTable) return;\n",
              "\n",
              "          const docLinkHtml = 'Like what you see? Visit the ' +\n",
              "            '<a target=\"_blank\" href=https://colab.research.google.com/notebooks/data_table.ipynb>data table notebook</a>'\n",
              "            + ' to learn more about interactive tables.';\n",
              "          element.innerHTML = '';\n",
              "          dataTable['output_type'] = 'display_data';\n",
              "          await google.colab.output.renderOutput(dataTable, element);\n",
              "          const docLink = document.createElement('div');\n",
              "          docLink.innerHTML = docLinkHtml;\n",
              "          element.appendChild(docLink);\n",
              "        }\n",
              "      </script>\n",
              "    </div>\n",
              "  </div>\n",
              "  "
            ]
          },
          "metadata": {},
          "execution_count": 35
        }
      ]
    },
    {
      "cell_type": "code",
      "source": [
        "tvd_final_df.hist(bins=np.arange(0,0.2,0.005))\n",
        "plt.ylabel('Percent per unit')\n",
        "plt.xlabel('TVD')\n",
        "plt.scatter(test_statistic, 0, color='red', s=100)"
      ],
      "metadata": {
        "colab": {
          "base_uri": "https://localhost:8080/",
          "height": 313
        },
        "id": "pCrGZIyY2zzD",
        "outputId": "33101318-0070-4360-da7e-bf6715abe211"
      },
      "execution_count": 36,
      "outputs": [
        {
          "output_type": "execute_result",
          "data": {
            "text/plain": [
              "<matplotlib.collections.PathCollection at 0x7fec5a6cee20>"
            ]
          },
          "metadata": {},
          "execution_count": 36
        },
        {
          "output_type": "display_data",
          "data": {
            "text/plain": [
              "<Figure size 432x288 with 1 Axes>"
            ],
            "image/png": "[encoded data removed]"
          },
          "metadata": {
            "needs_background": "light"
          }
        }
      ]
    },
    {
      "cell_type": "markdown",
      "source": [
        "Here distance between panels and eligible population is 0.14 which is far awy from random samples distance."
      ],
      "metadata": {
        "id": "gbey7yPg3u1N"
      }
    },
    {
      "cell_type": "markdown",
      "source": [
        "Hence our null hypothesis was rejected.panels were not selected at random from the population of eligible jurors."
      ],
      "metadata": {
        "id": "iKtJDi6x3-mP"
      }
    },
    {
      "cell_type": "code",
      "source": [],
      "metadata": {
        "id": "eJmfWjN72qOT"
      },
      "execution_count": 36,
      "outputs": []
    }
  ]
}