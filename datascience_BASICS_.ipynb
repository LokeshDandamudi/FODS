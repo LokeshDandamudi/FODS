{
  "cells": [
    {
      "cell_type": "markdown",
      "metadata": {
        "id": "h_ScoqlnLr5k"
      },
      "source": [
        " 1. "
      ]
    },
    {
      "cell_type": "code",
      "execution_count": null,
      "metadata": {
        "colab": {
          "base_uri": "https://localhost:8080/"
        },
        "id": "Cf2G4QWELr57",
        "outputId": "ddc99566-4280-4685-c259-5cedc1234299"
      },
      "outputs": [
        {
          "name": "stdout",
          "output_type": "stream",
          "text": [
            "('aman', '222', 777, 400.4)\n"
          ]
        }
      ],
      "source": [
        "a1=tuple([\"aman\",\"222\",777,400.4])\n",
        "print(a1)"
      ]
    },
    {
      "cell_type": "markdown",
      "metadata": {
        "id": "tJNM-fWxJs_m"
      },
      "source": [
        " 2."
      ]
    },
    {
      "cell_type": "code",
      "execution_count": 1,
      "metadata": {
        "colab": {
          "base_uri": "https://localhost:8080/"
        },
        "id": "j3KBn3cALIUE",
        "outputId": "65dff3c4-b64f-4175-9288-827a19941265"
      },
      "outputs": [
        {
          "output_type": "stream",
          "name": "stdout",
          "text": [
            "{'rollno': 'CB.EN.U4CSE20226', 'lname': 'reddy', 'fname': 'sujith', 'dob': '24-12-2001'}\n"
          ]
        }
      ],
      "source": [
        "q={\"rollno\": \"CB.EN.U4CSE20226\",\"lname\": \"reddy\",\"fname\": \"sujith\",\"dob\": \"24-12-2001\"}\n",
        "print(q)"
      ]
    },
    {
      "cell_type": "markdown",
      "metadata": {
        "id": "z6HRQkBnKL_d"
      },
      "source": [
        " 3."
      ]
    },
    {
      "cell_type": "code",
      "execution_count": null,
      "metadata": {
        "colab": {
          "base_uri": "https://localhost:8080/"
        },
        "id": "EDikU7tsLJDI",
        "outputId": "c9b4d351-e744-4859-e732-28d7b86fbea2"
      },
      "outputs": [
        {
          "name": "stdout",
          "output_type": "stream",
          "text": [
            "[[44 47  0  3  3]\n",
            " [39  9 19 21 36]]\n"
          ]
        }
      ],
      "source": [
        "import numpy as np\n",
        "np.random.seed(0)\n",
        "arr=np.random.randint(0,50,size=(2,5))\n",
        "print(arr)"
      ]
    },
    {
      "cell_type": "markdown",
      "metadata": {
        "id": "dfjnj6asKN3L"
      },
      "source": [
        "4. "
      ]
    },
    {
      "cell_type": "code",
      "execution_count": null,
      "metadata": {
        "colab": {
          "base_uri": "https://localhost:8080/"
        },
        "id": "zmcRL_URLKVB",
        "outputId": "091be31e-719e-4eec-dcee-404aa89092b9"
      },
      "outputs": [
        {
          "name": "stdout",
          "output_type": "stream",
          "text": [
            "0.466519691\n",
            "1234\n"
          ]
        }
      ],
      "source": [
        "print(round(random.uniform(0.1, 1.0), 10))\n",
        "print(abs(-1234))"
      ]
    },
    {
      "cell_type": "markdown",
      "metadata": {
        "id": "jO38HA2nKN6e"
      },
      "source": [
        " 5."
      ]
    },
    {
      "cell_type": "code",
      "execution_count": null,
      "metadata": {
        "colab": {
          "base_uri": "https://localhost:8080/"
        },
        "id": "3KOR2WKuJtol",
        "outputId": "37228bf5-f3e6-4892-9a40-a6ca60e291ca"
      },
      "outputs": [
        {
          "name": "stdout",
          "output_type": "stream",
          "text": [
            "32\n"
          ]
        }
      ],
      "source": [
        "import random \n",
        "print(random.randint(20,91))"
      ]
    },
    {
      "cell_type": "markdown",
      "metadata": {
        "id": "DUZk0hlaJa3H"
      },
      "source": [
        "6."
      ]
    },
    {
      "cell_type": "code",
      "execution_count": null,
      "metadata": {
        "colab": {
          "base_uri": "https://localhost:8080/"
        },
        "id": "iSOTB-X6LQlq",
        "outputId": "1acc407a-8912-4e3d-a55e-ed53235fda56"
      },
      "outputs": [
        {
          "name": "stdout",
          "output_type": "stream",
          "text": [
            "[11, 12, 13]\n",
            "After Shuffle : [12, 11, 13]\n",
            "11\n"
          ]
        }
      ],
      "source": [
        "def retlist(list1):\n",
        "  return list1[0:3]\n",
        "list1=[11,12,13,14,15]\n",
        "newlist=retlist(list1)\n",
        "print(newlist)\n",
        "np.random.shuffle(newlist)\n",
        "print(\"After Shuffle :\",newlist)\n",
        "print(np.random.choice(list1))"
      ]
    },
    {
      "cell_type": "markdown",
      "metadata": {
        "id": "_I0tLBbuLr57"
      },
      "source": [
        "7. "
      ]
    },
    {
      "cell_type": "code",
      "execution_count": null,
      "metadata": {
        "colab": {
          "base_uri": "https://localhost:8080/"
        },
        "id": "l-6ryRL9Lr58",
        "outputId": "c20d9eb1-91ad-4d2b-d1cb-c7f7126e1731"
      },
      "outputs": [
        {
          "name": "stdout",
          "output_type": "stream",
          "text": [
            "The King is Dead, Long Live The King "
          ]
        }
      ],
      "source": [
        "file=open(\"test.txt\",\"w\")\n",
        "file.write(\"The King is Dead, Long Live The King\")\n",
        "file.close()\n",
        "file=open(\"test.txt\",\"r\")\n",
        "for i in file:\n",
        "  print(i,end=\" \")"
      ]
    },
    {
      "cell_type": "markdown",
      "metadata": {
        "id": "TtOgyiYVLr59"
      },
      "source": [
        "8. "
      ]
    },
    {
      "cell_type": "code",
      "execution_count": null,
      "metadata": {
        "colab": {
          "base_uri": "https://localhost:8080/"
        },
        "id": "5Zv5KQXmLr59",
        "outputId": "bc9303bb-6f47-4b1b-8465-65dd0bd5982d"
      },
      "outputs": [
        {
          "name": "stdout",
          "output_type": "stream",
          "text": [
            "A less than B\n"
          ]
        }
      ],
      "source": [
        "def compare(a,b):\n",
        "  if a>b:\n",
        "    print(\"A greater than B\")\n",
        "  elif a<b:\n",
        "    print(\"A less than B\")\n",
        "  else:\n",
        "    print(\"A equal to B\")\n",
        "compare(2,3)"
      ]
    },
    {
      "cell_type": "markdown",
      "metadata": {
        "id": "dMt6czgGLr59"
      },
      "source": [
        " 9. "
      ]
    },
    {
      "cell_type": "code",
      "execution_count": null,
      "metadata": {
        "colab": {
          "base_uri": "https://localhost:8080/"
        },
        "id": "KxuQN2trLr5-",
        "outputId": "81e84f07-62be-4e48-8f46-6493e8a03923"
      },
      "outputs": [
        {
          "name": "stdout",
          "output_type": "stream",
          "text": [
            "The King is Dead, Long Live The King\n",
            "T\n",
            "e K\n",
            "e King is Dead, Long Live The King\n",
            "['The', 'King', 'is', 'Dead,', 'Long', 'Live', 'The', 'King']\n"
          ]
        }
      ],
      "source": [
        "s=\"The King is Dead, Long Live The King\"\n",
        "print(s)\n",
        "print(s[0])\n",
        "print(s[2:5])\n",
        "print(s[2:])\n",
        "print(s.split())"
      ]
    },
    {
      "cell_type": "markdown",
      "metadata": {
        "id": "fIewnNEWLr5-"
      },
      "source": [
        "10. "
      ]
    },
    {
      "cell_type": "code",
      "execution_count": null,
      "metadata": {
        "id": "O11a2MehLr6A"
      },
      "outputs": [],
      "source": [
        "a10=[1,4,5,8]\n",
        "print(a10[:2])"
      ]
    },
    {
      "cell_type": "markdown",
      "metadata": {
        "id": "uQr-cJEKROFD"
      },
      "source": [
        "### 11. Arrays can be multidimensional. Create a two-dimensional array of (1,2,3) and (4,5,6)."
      ]
    },
    {
      "cell_type": "code",
      "execution_count": null,
      "metadata": {
        "colab": {
          "background_save": true
        },
        "id": "mQkibY29ROFS",
        "outputId": "5a0a6898-a264-45cb-a9dc-aa3dfa6927b4"
      },
      "outputs": [
        {
          "name": "stdout",
          "output_type": "stream",
          "text": [
            "[[1 2 3]\n",
            " [4 5 6]]\n"
          ]
        }
      ],
      "source": [
        "import numpy as np\n",
        "arr=np.array([[1,2,3],[4,5,6]])\n",
        "print(arr)"
      ]
    },
    {
      "cell_type": "markdown",
      "metadata": {
        "id": "HZ-RYUs5ROFS"
      },
      "source": [
        "### 12. Array slicing works with multiple dimensions in the same way as usual, applying each slice specification as a filter to a specified dimension. Consider two-dimensional array of (1,2,3) and (4,5,6).\n",
        "\n",
        "o Slice and display the 2nd row.\n",
        "\n",
        "o Write code to display as array([2., 5.])\n",
        "\n",
        "o Find the length of the array."
      ]
    },
    {
      "cell_type": "code",
      "execution_count": null,
      "metadata": {
        "id": "liff4fmaROFS"
      },
      "outputs": [],
      "source": [
        "print(arr[1])\n",
        "print(arr[0][1],arr[1][1])\n",
        "print(len(arr))"
      ]
    },
    {
      "cell_type": "markdown",
      "metadata": {
        "id": "j0HAtV3JROFT"
      },
      "source": [
        "### 13. Arrays can be reshaped using tuples that specify new dimensions. Turn a ten-element one-dimensional array into a two-dimensional one whose first axis has five elements and whose second axis has two elements. Obtain the transpose of the array"
      ]
    },
    {
      "cell_type": "code",
      "execution_count": null,
      "metadata": {
        "id": "q6reQRuNROFT"
      },
      "outputs": [],
      "source": [
        "ar=np.array([1,2,3,4,5,6,7,8,9,0])\n",
        "print(ar)\n",
        "ar=ar.reshape(2,5)\n",
        "print(ar)"
      ]
    },
    {
      "cell_type": "markdown",
      "metadata": {
        "id": "YzoCLQbhROFT"
      },
      "source": [
        "### 14. Create an array from a list of 1,2 and 3."
      ]
    },
    {
      "cell_type": "code",
      "execution_count": null,
      "metadata": {
        "id": "HKBNEvXsROFU"
      },
      "outputs": [],
      "source": []
    },
    {
      "cell_type": "markdown",
      "metadata": {
        "id": "CXQnfESpROFU"
      },
      "source": [
        "### 15. Fill an array [1,2,3] with a single value [9,9,9]."
      ]
    },
    {
      "cell_type": "code",
      "execution_count": null,
      "metadata": {
        "id": "ur2sPQJaROFU"
      },
      "outputs": [],
      "source": [
        "a15=[1,2,3]\n",
        "a15=np.full((3),9)\n",
        "print(a15)"
      ]
    },
    {
      "cell_type": "markdown",
      "metadata": {
        "id": "m6gXO1d6ROFU"
      },
      "source": [
        "### 16. Sum the elements of array [2,4,5]."
      ]
    },
    {
      "cell_type": "code",
      "execution_count": null,
      "metadata": {
        "id": "h3kEQBAGROFU"
      },
      "outputs": [],
      "source": [
        "a16=[2,4,5]\n",
        "print(sum(a16))"
      ]
    },
    {
      "cell_type": "markdown",
      "metadata": {
        "id": "KqpsLxFtROFV"
      },
      "source": [
        "### 17. Give the products of array [77,74,75]"
      ]
    },
    {
      "cell_type": "code",
      "execution_count": null,
      "metadata": {
        "colab": {
          "background_save": true
        },
        "id": "gpoUvCGuROFV",
        "outputId": "1343ba39-2c5e-4ecd-fb68-98c084127c5d"
      },
      "outputs": [
        {
          "name": "stdout",
          "output_type": "stream",
          "text": [
            "427350\n"
          ]
        }
      ],
      "source": [
        "a17=[77,74,75]\n",
        "prod=1\n",
        "for i in a17:\n",
        "  prod*=i\n",
        "print(prod)"
      ]
    },
    {
      "cell_type": "markdown",
      "metadata": {
        "id": "O1TFphJ-ROFV"
      },
      "source": [
        "### 18. Given an array [2,1,9,1,2,22,1,1,4,55,6,2,56]. Find mean, variance, max, min, argmin, median, argmax and standard deviation."
      ]
    },
    {
      "cell_type": "code",
      "execution_count": null,
      "metadata": {
        "colab": {
          "background_save": true
        },
        "id": "QLYQoT-JROFV",
        "outputId": "9de8961c-4246-4375-b88f-2729fc87f671"
      },
      "outputs": [
        {
          "name": "stdout",
          "output_type": "stream",
          "text": [
            "Mean= 12.461538461538462\n",
            "Median= 2.0\n",
            "Mode= ModeResult(mode=array([1]), count=array([4]))\n",
            "Max= 56\n",
            "Min= 1\n"
          ]
        }
      ],
      "source": [
        "from scipy import stats\n",
        "a18=np.array([2,1,9,1,2,22,1,1,4,55,6,2,56])\n",
        "print(\"Mean=\",np.mean(a18))\n",
        "print(\"Median=\",np.median(a18))\n",
        "print(\"Mode=\",stats.mode(a18))\n",
        "print(\"Max=\",max(a18))\n",
        "print(\"Min=\",min(a18))\n"
      ]
    },
    {
      "cell_type": "markdown",
      "metadata": {
        "id": "RJAlUybPROFV"
      },
      "source": [
        "### 19. Extract unique elements from an array: [1, 1, 4, 5, 5, 5, 7] and sort it. "
      ]
    },
    {
      "cell_type": "code",
      "execution_count": null,
      "metadata": {
        "colab": {
          "background_save": true
        },
        "id": "4xL-AdGXROFW",
        "outputId": "21baf3d9-bb3e-4dab-9572-05acb806b265"
      },
      "outputs": [
        {
          "name": "stdout",
          "output_type": "stream",
          "text": [
            "[1, 4, 5, 7]\n"
          ]
        }
      ],
      "source": [
        "a19=[1, 1, 4, 5, 5, 5, 7]\n",
        "a19=list(set(a19))\n",
        "a19.sort()\n",
        "print(a19)"
      ]
    },
    {
      "cell_type": "markdown",
      "metadata": {
        "id": "xHhx3ZbIROFW"
      },
      "source": [
        "### 20. Find dot product of two arrays [1, 2, 3]and [0, 1, 1]."
      ]
    },
    {
      "cell_type": "code",
      "execution_count": null,
      "metadata": {
        "colab": {
          "background_save": true
        },
        "id": "yhqTyeZHROFW",
        "outputId": "7786841d-913a-4efe-9bd9-9b8c42361925"
      },
      "outputs": [
        {
          "name": "stdout",
          "output_type": "stream",
          "text": [
            "5\n"
          ]
        }
      ],
      "source": [
        "a20=[1,2,3]\n",
        "b20=[0,1,1]\n",
        "print(np.dot(a20,b20))"
      ]
    },
    {
      "cell_type": "markdown",
      "metadata": {
        "id": "6zT1P4HPPUd_"
      },
      "source": [
        "### 21. Find the eigenvalues and eigenvectors of matrix A."
      ]
    },
    {
      "cell_type": "code",
      "execution_count": null,
      "metadata": {
        "colab": {
          "background_save": true
        },
        "id": "3lh7awqCPUeH",
        "outputId": "684a9d5b-f271-432e-d21e-cb958c279aed"
      },
      "outputs": [
        {
          "name": "stdout",
          "output_type": "stream",
          "text": [
            "[-1. -2.] [[0.9701425  0.9486833 ]\n",
            " [0.24253563 0.31622777]]\n"
          ]
        }
      ],
      "source": [
        "a21=[[2,-12],[1,-5]]\n",
        "x,y=np.linalg.eig(a21)\n",
        "print(x,y)"
      ]
    },
    {
      "cell_type": "markdown",
      "metadata": {
        "id": "BiG36nPZPUeH"
      },
      "source": [
        "### 22. Given an array with [11, 22, 11, 31], [25, 33, 31, 28]]. Treat as floats. Find the correlation coefficients."
      ]
    },
    {
      "cell_type": "code",
      "execution_count": null,
      "metadata": {
        "id": "K2EqA_mFPUeH"
      },
      "outputs": [],
      "source": [
        "a22=[[11, 22, 11, 31], [25, 33, 31, 28]]\n",
        "print(np.corrcoef(a22))"
      ]
    }
  ],
  "metadata": {
    "colab": {
      "toc_visible": true,
      "provenance": []
    },
    "kernelspec": {
      "display_name": "Python 3",
      "name": "python3"
    },
    "language_info": {
      "name": "python"
    }
  },
  "nbformat": 4,
  "nbformat_minor": 0
}