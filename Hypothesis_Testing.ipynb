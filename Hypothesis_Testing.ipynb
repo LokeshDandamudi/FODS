{
  "nbformat": 4,
  "nbformat_minor": 0,
  "metadata": {
    "colab": {
      "provenance": []
    },
    "kernelspec": {
      "name": "python3",
      "display_name": "Python 3"
    },
    "language_info": {
      "name": "python"
    }
  },
  "cells": [
    {
      "cell_type": "code",
      "execution_count": null,
      "metadata": {
        "id": "0ymQkWA7xnGh"
      },
      "outputs": [],
      "source": [
        "import numpy as np\n",
        "import scipy.stats as st"
      ]
    },
    {
      "cell_type": "markdown",
      "source": [
        "## Section 1 : z-Test"
      ],
      "metadata": {
        "id": "kZD7Uo68xwd9"
      }
    },
    {
      "cell_type": "markdown",
      "source": [
        "# Example 1.1 : Ages of Medical doctors"
      ],
      "metadata": {
        "id": "6OgyppApx6cF"
      }
    },
    {
      "cell_type": "markdown",
      "source": [
        "\n",
        "A researcher believes that the mean age of medical doctors in a large hospital system is older than the average age of doctors in the United States, which is 46. Assume the population standard deviation is 4.2 years. A random sample of 30 doctors from the system is selected, and the mean age of the sample is 48.6. Test the claim at α = 0.05."
      ],
      "metadata": {
        "id": "_r7R2dAbxqxU"
      }
    },
    {
      "cell_type": "code",
      "source": [
        "#H0 : μ = 46, Ha :  μ > 46\n",
        "n = 30\n",
        "xbar = 48.6\n",
        "mu = 46\n",
        "sigma = 4.2\n",
        "alpha = 0.05"
      ],
      "metadata": {
        "id": "UQ4ybh6vxoF9"
      },
      "execution_count": null,
      "outputs": []
    },
    {
      "cell_type": "code",
      "source": [
        "z_critical = abs(st.norm.ppf(alpha)) #Absolute value taken as the it's a right-tailed test and the original value will be negative\n",
        "z_critical"
      ],
      "metadata": {
        "colab": {
          "base_uri": "https://localhost:8080/"
        },
        "id": "4m2JDhPlyCNr",
        "outputId": "cc2b2061-f3d0-4958-eb44-aaae0864e8bf"
      },
      "execution_count": null,
      "outputs": [
        {
          "output_type": "execute_result",
          "data": {
            "text/plain": [
              "1.6448536269514729"
            ]
          },
          "metadata": {},
          "execution_count": 3
        }
      ]
    },
    {
      "cell_type": "code",
      "source": [
        "z = (xbar-mu)/(sigma/np.sqrt(n))\n",
        "z"
      ],
      "metadata": {
        "colab": {
          "base_uri": "https://localhost:8080/"
        },
        "id": "TBrqbMToyF9L",
        "outputId": "8c792f28-744e-4493-df52-383a590ea71f"
      },
      "execution_count": null,
      "outputs": [
        {
          "output_type": "execute_result",
          "data": {
            "text/plain": [
              "3.3906634512224585"
            ]
          },
          "metadata": {},
          "execution_count": 4
        }
      ]
    },
    {
      "cell_type": "code",
      "source": [
        "if (z < z_critical): #Right-tailed test\n",
        "    print(\"Null hypothesis cannot be rejected\")\n",
        "else:\n",
        "    print(\"Reject null hypothesis\")"
      ],
      "metadata": {
        "colab": {
          "base_uri": "https://localhost:8080/"
        },
        "id": "H93FzTldyJE6",
        "outputId": "60fff443-28ef-4e59-c77e-8a2aa0df7594"
      },
      "execution_count": null,
      "outputs": [
        {
          "output_type": "stream",
          "name": "stdout",
          "text": [
            "Reject null hypothesis\n"
          ]
        }
      ]
    },
    {
      "cell_type": "markdown",
      "source": [
        "## Section 2 : z-Test using P-value"
      ],
      "metadata": {
        "id": "VriRD8KoyXmb"
      }
    },
    {
      "cell_type": "markdown",
      "source": [
        "# Example 2. 1 : Wind Speed"
      ],
      "metadata": {
        "id": "mNo0WGIHyZ1x"
      }
    },
    {
      "cell_type": "markdown",
      "source": [
        "A researcher claims that the average wind speed in a certain city is 8 miles per hour. A sample of 32 days has an average wind speed of 8.2 miles per hour. The standard deviation of the population is 0.6 mile per hour. At α = 0.05, is there enough evidence to reject the claim? Use the P-value method."
      ],
      "metadata": {
        "id": "ekRPoDkYyeeu"
      }
    },
    {
      "cell_type": "code",
      "source": [
        "#H0 : μ = 8 and Ha : μ != 8\n",
        "n = 32\n",
        "xbar = 8.2\n",
        "mu = 8\n",
        "sigma = 0.6\n",
        "alpha = 0.05"
      ],
      "metadata": {
        "id": "oaYw0LHpyMKX"
      },
      "execution_count": null,
      "outputs": []
    },
    {
      "cell_type": "code",
      "source": [
        "z = (xbar-mu)/(sigma/np.sqrt(n))\n",
        "z\n",
        "1.8"
      ],
      "metadata": {
        "colab": {
          "base_uri": "https://localhost:8080/"
        },
        "id": "VE1v_rKiygzX",
        "outputId": "6775165c-80fc-4351-f802-673747db2964"
      },
      "execution_count": null,
      "outputs": [
        {
          "output_type": "execute_result",
          "data": {
            "text/plain": [
              "1.8"
            ]
          },
          "metadata": {},
          "execution_count": 7
        }
      ]
    },
    {
      "cell_type": "code",
      "source": [
        "p_val = (1 - st.norm.cdf(abs(z))) * 2\n",
        "p_val"
      ],
      "metadata": {
        "colab": {
          "base_uri": "https://localhost:8080/"
        },
        "id": "atBeTnicyjOX",
        "outputId": "99ae170d-4b14-4802-c3c9-e1c1f7b76fb2"
      },
      "execution_count": null,
      "outputs": [
        {
          "output_type": "execute_result",
          "data": {
            "text/plain": [
              "0.0593464387919207"
            ]
          },
          "metadata": {},
          "execution_count": 8
        }
      ]
    },
    {
      "cell_type": "code",
      "source": [
        "if (p_val > alpha):\n",
        "    print(\"Null hypothesis cannot be rejected\")\n",
        "else:\n",
        "    print(\"Reject null hypothesis\")"
      ],
      "metadata": {
        "colab": {
          "base_uri": "https://localhost:8080/"
        },
        "id": "y5qvn9MpylrO",
        "outputId": "238e7d76-1174-4dbf-97dc-41ff2bbd09bb"
      },
      "execution_count": null,
      "outputs": [
        {
          "output_type": "stream",
          "name": "stdout",
          "text": [
            "Null hypothesis cannot be rejected\n"
          ]
        }
      ]
    },
    {
      "cell_type": "markdown",
      "source": [
        "## Section 3 : t-Test"
      ],
      "metadata": {
        "id": "Fpn5xwtPzFg_"
      }
    },
    {
      "cell_type": "markdown",
      "source": [
        "# Example 3.1 : Hospital Infections"
      ],
      "metadata": {
        "id": "LNuy2Kp7zIOv"
      }
    },
    {
      "cell_type": "markdown",
      "source": [
        "A medical investigation claims that the average number of infections per week at a ­hospital in southwestern Pennsylvania is 16.3. A random sample of 10 weeks had a mean number of 17.7 infections. The sample standard deviation is 1.8. Is there enough evidence to reject the investigator’s claim at α = 0.05? Assume the variable is normally distributed."
      ],
      "metadata": {
        "id": "_gfAcW80zKjt"
      }
    },
    {
      "cell_type": "code",
      "source": [
        "#H0 : μ = 16.3, Ha : μ != 16.3\n",
        "n = 10\n",
        "degrees_of_freedom = n-1\n",
        "xbar = 17.7\n",
        "mu = 16.3\n",
        "s = 1.8\n",
        "alpha = 0.05"
      ],
      "metadata": {
        "id": "S5kZYcOryoSr"
      },
      "execution_count": null,
      "outputs": []
    },
    {
      "cell_type": "code",
      "source": [
        "t = (xbar - mu)/(s / np.sqrt(n))\n",
        "t"
      ],
      "metadata": {
        "colab": {
          "base_uri": "https://localhost:8080/"
        },
        "id": "XM-IYgcrzT0R",
        "outputId": "83334395-8317-4792-d16b-cad5c737dfa0"
      },
      "execution_count": null,
      "outputs": [
        {
          "output_type": "execute_result",
          "data": {
            "text/plain": [
              "2.4595492912420704"
            ]
          },
          "metadata": {},
          "execution_count": 11
        }
      ]
    },
    {
      "cell_type": "code",
      "source": [
        "t_critical = st.t.ppf(alpha/2, degrees_of_freedom)\n",
        "t_critical"
      ],
      "metadata": {
        "colab": {
          "base_uri": "https://localhost:8080/"
        },
        "id": "2lB8A6tvzWYK",
        "outputId": "e0fb8b99-6464-4f70-f4bd-797a4b3d7499"
      },
      "execution_count": null,
      "outputs": [
        {
          "output_type": "execute_result",
          "data": {
            "text/plain": [
              "-2.262157162740992"
            ]
          },
          "metadata": {},
          "execution_count": 12
        }
      ]
    },
    {
      "cell_type": "code",
      "source": [
        "if (abs(t) > abs(t_critical)): #Absolute value taken as the it's a two-tailed test and the original t_critical value might be negative\n",
        "    print(\"Null hypothesis cannot be rejected\")\n",
        "else:\n",
        "    print(\"Reject null hypothesis\")"
      ],
      "metadata": {
        "colab": {
          "base_uri": "https://localhost:8080/"
        },
        "id": "VNralHqdzYiE",
        "outputId": "25db74bc-49b2-421e-f83c-bcf71b17a17f"
      },
      "execution_count": null,
      "outputs": [
        {
          "output_type": "stream",
          "name": "stdout",
          "text": [
            "Null hypothesis cannot be rejected\n"
          ]
        }
      ]
    },
    {
      "cell_type": "markdown",
      "source": [
        "## Section 4 : t-Test using P-value"
      ],
      "metadata": {
        "id": "HbDGU35wzc1F"
      }
    },
    {
      "cell_type": "markdown",
      "source": [
        "## Example 4.1 : Jogger’s Oxygen Uptake"
      ],
      "metadata": {
        "id": "wGZvPr4gzfw4"
      }
    },
    {
      "cell_type": "markdown",
      "source": [
        "A physician claims that joggers’ maximal volume oxygen uptake is greater than the average of all adults. A random sample of 15 joggers has a mean of 40.6 milliliters per kilogram (ml/kg) and a standard deviation of 6 ml/kg. If the average of all adults is 36.7 ml/kg, is there enough evidence to support the physician’s claim at α = 0.05? Assume the variable is normally distributed."
      ],
      "metadata": {
        "id": "-dzMvijkzkFd"
      }
    },
    {
      "cell_type": "code",
      "source": [
        "#H0 : μ = 36.7, Ha : μ > 36.7\n",
        "n = 15\n",
        "degrees_of_freedom = n-1\n",
        "xbar = 40.6\n",
        "mu = 36.7\n",
        "s = 6\n",
        "alpha = 0.05"
      ],
      "metadata": {
        "id": "0ROzoiJjzaUx"
      },
      "execution_count": null,
      "outputs": []
    },
    {
      "cell_type": "code",
      "source": [
        "t = (xbar - mu)/(s / np.sqrt(n))\n",
        "t"
      ],
      "metadata": {
        "colab": {
          "base_uri": "https://localhost:8080/"
        },
        "id": "dXN8TWUczo1a",
        "outputId": "93244515-712f-4904-a392-1479357924d7"
      },
      "execution_count": null,
      "outputs": [
        {
          "output_type": "execute_result",
          "data": {
            "text/plain": [
              "2.51743917503482"
            ]
          },
          "metadata": {},
          "execution_count": 15
        }
      ]
    },
    {
      "cell_type": "code",
      "source": [
        "p_val = (1 - st.t.cdf(abs(t), degrees_of_freedom)) #\"1 - cdf\" because it's a right-tailed test\n",
        "p_val"
      ],
      "metadata": {
        "colab": {
          "base_uri": "https://localhost:8080/"
        },
        "id": "YNyg4tMezqmU",
        "outputId": "f4cbffa0-8c4d-4030-e5fd-2341f145d859"
      },
      "execution_count": null,
      "outputs": [
        {
          "output_type": "execute_result",
          "data": {
            "text/plain": [
              "0.012311189053656801"
            ]
          },
          "metadata": {},
          "execution_count": 16
        }
      ]
    },
    {
      "cell_type": "code",
      "source": [
        "if (p_val > alpha):\n",
        "    print(\"Null hypothesis cannot be rejected\")\n",
        "else:\n",
        "    print(\"Reject null hypothesis\")"
      ],
      "metadata": {
        "colab": {
          "base_uri": "https://localhost:8080/"
        },
        "id": "wFH-BYGSzsam",
        "outputId": "78d57b99-c9f1-45e6-966e-c724ec8af5ac"
      },
      "execution_count": null,
      "outputs": [
        {
          "output_type": "stream",
          "name": "stdout",
          "text": [
            "Reject null hypothesis\n"
          ]
        }
      ]
    }
  ]
}